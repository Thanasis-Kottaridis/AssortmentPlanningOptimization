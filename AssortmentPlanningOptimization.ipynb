{
 "metadata": {
  "language_info": {
   "codemirror_mode": {
    "name": "ipython",
    "version": 3
   },
   "file_extension": ".py",
   "mimetype": "text/x-python",
   "name": "python",
   "nbconvert_exporter": "python",
   "pygments_lexer": "ipython3",
   "version": 3
  },
  "orig_nbformat": 2,
  "kernelspec": {
   "name": "local-venv",
   "language": "python",
   "display_name": "local-venv"
  }
 },
 "nbformat": 4,
 "nbformat_minor": 2,
 "cells": [
  {
   "cell_type": "markdown",
   "source": [
    "## Imports\n"
   ],
   "metadata": {
    "collapsed": false
   }
  },
  {
   "cell_type": "code",
   "execution_count": 1,
   "outputs": [],
   "source": [
    "# main imports\n",
    "import numpy as np\n",
    "import pandas as pd\n",
    "\n",
    "# my utils\n",
    "from utils import preprocessUtils as utils\n",
    "from utils import helperUtils\n",
    "\n",
    "from scipy.stats import rv_discrete\n",
    "\n",
    "# import sic-learn modules/ ml algoriths\n",
    "# from sklearn import preprocessing\n",
    "from sklearn.preprocessing import StandardScaler\n",
    "from sklearn.model_selection import train_test_split\n",
    "from sklearn.model_selection import KFold\n",
    "from sklearn.model_selection import StratifiedKFold\n",
    "from sklearn import metrics\n",
    "from sklearn.metrics import r2_score\n",
    "from sklearn.metrics import mean_squared_error\n",
    "\n",
    "# repressors\n",
    "from sklearn.linear_model import LinearRegression\n",
    "from sklearn.linear_model import Ridge\n",
    "from sklearn.linear_model import Lasso\n",
    "from sklearn.ensemble import GradientBoostingRegressor\n",
    "\n",
    "# classifiers\n",
    "from sklearn.neighbors import KNeighborsClassifier\n",
    "from sklearn.linear_model import LogisticRegression\n",
    "from sklearn.linear_model import LinearRegression\n",
    "from sklearn.tree import DecisionTreeClassifier\n",
    "from sklearn.naive_bayes import GaussianNB\n",
    "from sklearn.ensemble import RandomForestClassifier\n",
    "from sklearn.linear_model import Perceptron\n",
    "from sklearn.svm import SVC\n",
    "\n",
    "\n",
    "# visualization\n",
    "from IPython.display import display, HTML\n",
    "from tabulate import tabulate\n",
    "from matplotlib import pyplot as plt\n",
    "import seaborn as sns"
   ],
   "metadata": {
    "collapsed": false,
    "pycharm": {
     "name": "#%%\n"
    }
   }
  },
  {
   "cell_type": "markdown",
   "source": [
    "## Load Dataset\n",
    "\n",
    "Use pandas in order to load dataset from txt into dataframe using \" \" as seperator."
   ],
   "metadata": {
    "collapsed": false,
    "pycharm": {
     "name": "#%% md\n"
    }
   }
  },
  {
   "cell_type": "code",
   "execution_count": 2,
   "outputs": [],
   "source": [
    "dataset_17x7_path = \"datasets/17x7.txt\"\n",
    "dataset_20x10_path = \"datasets/20x10.txt\"\n",
    "\n",
    "df_17x7 = pd.read_csv(dataset_17x7_path, sep=\" \", header=None)\n",
    "df_20x10 = pd.read_csv(dataset_20x10_path, sep=\" \", header=None)"
   ],
   "metadata": {
    "collapsed": false,
    "pycharm": {
     "name": "#%%\n"
    }
   }
  },
  {
   "cell_type": "markdown",
   "source": [
    "## Preprocess Datasets\n",
    "- Add column names\n",
    "- clean Dataframes. By cleaning dataframes we create\n",
    "a new dataframe consist of all products indexed by\n",
    "assortment_id, assortment_revenue, itemId and columns\n",
    "of each item"
   ],
   "metadata": {
    "collapsed": false,
    "pycharm": {
     "name": "#%% md\n"
    }
   }
  },
  {
   "cell_type": "code",
   "execution_count": 3,
   "outputs": [
    {
     "data": {
      "text/plain": "                                                 total_sale_avg  \\\nassorment_id produc_id total_assortment_revenue                   \n0            0         425.8133                           84.00   \n             2         425.8133                           37.33   \n             3         425.8133                           62.67   \n             4         425.8133                           17.33   \n             7         425.8133                          100.00   \n...                                                         ...   \n7841         2         390.8000                           26.67   \n             6         390.8000                           49.33   \n             10        390.8000                           62.67   \n             12        390.8000                           16.00   \n             15        390.8000                           38.67   \n\n                                                 exclusive_sale_avg  \\\nassorment_id produc_id total_assortment_revenue                       \n0            0         425.8133                                 0.0   \n             2         425.8133                                 0.0   \n             3         425.8133                                 0.0   \n             4         425.8133                                 0.0   \n             7         425.8133                                16.0   \n...                                                             ...   \n7841         2         390.8000                                 0.0   \n             6         390.8000                                 0.0   \n             10        390.8000                                 0.0   \n             12        390.8000                                 0.0   \n             15        390.8000                                 0.0   \n\n                                                 revenue_contribution  \nassorment_id produc_id total_assortment_revenue                        \n0            0         425.8133                                 20.43  \n             2         425.8133                                  3.32  \n             3         425.8133                                 11.12  \n             4         425.8133                                  0.64  \n             7         425.8133                                 42.99  \n...                                                               ...  \n7841         2         390.8000                                  2.26  \n             6         390.8000                                  8.78  \n             10        390.8000                                 13.53  \n             12        390.8000                                  1.02  \n             15        390.8000                                  5.92  \n\n[54894 rows x 3 columns]",
      "text/html": "<div>\n<style scoped>\n    .dataframe tbody tr th:only-of-type {\n        vertical-align: middle;\n    }\n\n    .dataframe tbody tr th {\n        vertical-align: top;\n    }\n\n    .dataframe thead th {\n        text-align: right;\n    }\n</style>\n<table border=\"1\" class=\"dataframe\">\n  <thead>\n    <tr style=\"text-align: right;\">\n      <th></th>\n      <th></th>\n      <th></th>\n      <th>total_sale_avg</th>\n      <th>exclusive_sale_avg</th>\n      <th>revenue_contribution</th>\n    </tr>\n    <tr>\n      <th>assorment_id</th>\n      <th>produc_id</th>\n      <th>total_assortment_revenue</th>\n      <th></th>\n      <th></th>\n      <th></th>\n    </tr>\n  </thead>\n  <tbody>\n    <tr>\n      <th rowspan=\"5\" valign=\"top\">0</th>\n      <th>0</th>\n      <th>425.8133</th>\n      <td>84.00</td>\n      <td>0.0</td>\n      <td>20.43</td>\n    </tr>\n    <tr>\n      <th>2</th>\n      <th>425.8133</th>\n      <td>37.33</td>\n      <td>0.0</td>\n      <td>3.32</td>\n    </tr>\n    <tr>\n      <th>3</th>\n      <th>425.8133</th>\n      <td>62.67</td>\n      <td>0.0</td>\n      <td>11.12</td>\n    </tr>\n    <tr>\n      <th>4</th>\n      <th>425.8133</th>\n      <td>17.33</td>\n      <td>0.0</td>\n      <td>0.64</td>\n    </tr>\n    <tr>\n      <th>7</th>\n      <th>425.8133</th>\n      <td>100.00</td>\n      <td>16.0</td>\n      <td>42.99</td>\n    </tr>\n    <tr>\n      <th>...</th>\n      <th>...</th>\n      <th>...</th>\n      <td>...</td>\n      <td>...</td>\n      <td>...</td>\n    </tr>\n    <tr>\n      <th rowspan=\"5\" valign=\"top\">7841</th>\n      <th>2</th>\n      <th>390.8000</th>\n      <td>26.67</td>\n      <td>0.0</td>\n      <td>2.26</td>\n    </tr>\n    <tr>\n      <th>6</th>\n      <th>390.8000</th>\n      <td>49.33</td>\n      <td>0.0</td>\n      <td>8.78</td>\n    </tr>\n    <tr>\n      <th>10</th>\n      <th>390.8000</th>\n      <td>62.67</td>\n      <td>0.0</td>\n      <td>13.53</td>\n    </tr>\n    <tr>\n      <th>12</th>\n      <th>390.8000</th>\n      <td>16.00</td>\n      <td>0.0</td>\n      <td>1.02</td>\n    </tr>\n    <tr>\n      <th>15</th>\n      <th>390.8000</th>\n      <td>38.67</td>\n      <td>0.0</td>\n      <td>5.92</td>\n    </tr>\n  </tbody>\n</table>\n<p>54894 rows × 3 columns</p>\n</div>"
     },
     "metadata": {},
     "output_type": "display_data"
    },
    {
     "data": {
      "text/plain": "                                                 total_sale_avg  \\\nassorment_id produc_id total_assortment_revenue                   \n0            1         1896.4706                          68.24   \n             2         1896.4706                           7.06   \n             6         1896.4706                          37.65   \n             7         1896.4706                          14.12   \n             8         1896.4706                          45.88   \n...                                                         ...   \n18939        9         1643.4118                          91.76   \n             11        1643.4118                          22.35   \n             15        1643.4118                          62.35   \n             16        1643.4118                          42.35   \n             19        1643.4118                          69.41   \n\n                                                 exclusive_sale_avg  \\\nassorment_id produc_id total_assortment_revenue                       \n0            1         1896.4706                               0.00   \n             2         1896.4706                               0.00   \n             6         1896.4706                               0.00   \n             7         1896.4706                               0.00   \n             8         1896.4706                               0.00   \n...                                                             ...   \n18939        9         1643.4118                              12.94   \n             11        1643.4118                               0.00   \n             15        1643.4118                               0.00   \n             16        1643.4118                               0.00   \n             19        1643.4118                               0.00   \n\n                                                 revenue_contribution  \nassorment_id produc_id total_assortment_revenue                        \n0            1         1896.4706                                12.41  \n             2         1896.4706                                 0.06  \n             6         1896.4706                                 3.20  \n             7         1896.4706                                 0.19  \n             8         1896.4706                                 4.92  \n...                                                               ...  \n18939        9         1643.4118                                33.75  \n             11        1643.4118                                 1.55  \n             15        1643.4118                                10.13  \n             16        1643.4118                                 4.42  \n             19        1643.4118                                12.47  \n\n[189400 rows x 3 columns]",
      "text/html": "<div>\n<style scoped>\n    .dataframe tbody tr th:only-of-type {\n        vertical-align: middle;\n    }\n\n    .dataframe tbody tr th {\n        vertical-align: top;\n    }\n\n    .dataframe thead th {\n        text-align: right;\n    }\n</style>\n<table border=\"1\" class=\"dataframe\">\n  <thead>\n    <tr style=\"text-align: right;\">\n      <th></th>\n      <th></th>\n      <th></th>\n      <th>total_sale_avg</th>\n      <th>exclusive_sale_avg</th>\n      <th>revenue_contribution</th>\n    </tr>\n    <tr>\n      <th>assorment_id</th>\n      <th>produc_id</th>\n      <th>total_assortment_revenue</th>\n      <th></th>\n      <th></th>\n      <th></th>\n    </tr>\n  </thead>\n  <tbody>\n    <tr>\n      <th rowspan=\"5\" valign=\"top\">0</th>\n      <th>1</th>\n      <th>1896.4706</th>\n      <td>68.24</td>\n      <td>0.00</td>\n      <td>12.41</td>\n    </tr>\n    <tr>\n      <th>2</th>\n      <th>1896.4706</th>\n      <td>7.06</td>\n      <td>0.00</td>\n      <td>0.06</td>\n    </tr>\n    <tr>\n      <th>6</th>\n      <th>1896.4706</th>\n      <td>37.65</td>\n      <td>0.00</td>\n      <td>3.20</td>\n    </tr>\n    <tr>\n      <th>7</th>\n      <th>1896.4706</th>\n      <td>14.12</td>\n      <td>0.00</td>\n      <td>0.19</td>\n    </tr>\n    <tr>\n      <th>8</th>\n      <th>1896.4706</th>\n      <td>45.88</td>\n      <td>0.00</td>\n      <td>4.92</td>\n    </tr>\n    <tr>\n      <th>...</th>\n      <th>...</th>\n      <th>...</th>\n      <td>...</td>\n      <td>...</td>\n      <td>...</td>\n    </tr>\n    <tr>\n      <th rowspan=\"5\" valign=\"top\">18939</th>\n      <th>9</th>\n      <th>1643.4118</th>\n      <td>91.76</td>\n      <td>12.94</td>\n      <td>33.75</td>\n    </tr>\n    <tr>\n      <th>11</th>\n      <th>1643.4118</th>\n      <td>22.35</td>\n      <td>0.00</td>\n      <td>1.55</td>\n    </tr>\n    <tr>\n      <th>15</th>\n      <th>1643.4118</th>\n      <td>62.35</td>\n      <td>0.00</td>\n      <td>10.13</td>\n    </tr>\n    <tr>\n      <th>16</th>\n      <th>1643.4118</th>\n      <td>42.35</td>\n      <td>0.00</td>\n      <td>4.42</td>\n    </tr>\n    <tr>\n      <th>19</th>\n      <th>1643.4118</th>\n      <td>69.41</td>\n      <td>0.00</td>\n      <td>12.47</td>\n    </tr>\n  </tbody>\n</table>\n<p>189400 rows × 3 columns</p>\n</div>"
     },
     "metadata": {},
     "output_type": "display_data"
    }
   ],
   "source": [
    "# add column names to datasets\n",
    "df_17x7 = utils.addColumnNamesToRawData(df_17x7, 7)\n",
    "df_20x10 = utils.addColumnNamesToRawData(df_20x10, 10)\n",
    "\n",
    "# keep a copy of original dfs\n",
    "df_17x7_original = df_17x7.copy(deep = True)\n",
    "df_20x10_original = df_20x10.copy(deep = True)\n",
    "\n",
    "# clean datasets\n",
    "clean_df_17x7 = utils.cleanRawData(df_17x7, 7)\n",
    "clean_df_20x10 = utils.cleanRawData(df_20x10, 10)\n",
    "\n",
    "# display datasets\n",
    "display(clean_df_17x7)\n",
    "display(clean_df_20x10)"
   ],
   "metadata": {
    "collapsed": false,
    "pycharm": {
     "name": "#%%\n"
    }
   }
  },
  {
   "cell_type": "markdown",
   "source": [
    "# Metatropi tou provlimatos se regression provlima\n",
    "\n",
    "### Erotima 1.A"
   ],
   "metadata": {
    "collapsed": false,
    "pycharm": {
     "name": "#%% md\n"
    }
   }
  },
  {
   "cell_type": "code",
   "execution_count": 4,
   "outputs": [
    {
     "data": {
      "text/plain": "      produc_id  total_sale_avg  exclusive_sale_avg  revenue_contribution  \\\n1             2           45.33                 0.0                  4.38   \n3             2           38.67                 0.0                  3.85   \n5             0           53.33                 0.0                  9.65   \n7             0           77.33                 0.0                 16.81   \n8             2           53.33                 0.0                  5.40   \n...         ...             ...                 ...                   ...   \n7836          2           32.00                 0.0                  2.62   \n7837          1           66.67                 0.0                 16.01   \n7839          3           45.33                 0.0                  6.74   \n7840          0           89.33                 0.0                 22.61   \n7841          0           80.00                 0.0                 21.06   \n\n      produc_id  total_sale_avg  exclusive_sale_avg  revenue_contribution  \\\n1             4           12.00                0.00                  0.46   \n3             4            9.33                0.00                  0.37   \n5             6           41.33                0.00                  6.42   \n7             2           10.67                0.00                  0.79   \n8             3           65.33                0.00                 12.59   \n...         ...             ...                 ...                   ...   \n7836          3           42.67                0.00                  6.61   \n7837          2           25.33                0.00                  1.91   \n7839          6           58.67                0.00                  9.58   \n7840          1           98.67                9.33                 38.77   \n7841          1           98.67               18.67                 46.09   \n\n      produc_id  total_sale_avg  ...  revenue_contribution  produc_id  \\\n1             6           60.00  ...                 14.24         11   \n3             6           54.67  ...                 15.25         10   \n5             7           98.67  ...                 14.30         11   \n7             6           56.00  ...                 24.20         15   \n8             4           33.33  ...                 17.03          7   \n...         ...             ...  ...                   ...        ...   \n7836          4           14.67  ...                 38.43          9   \n7837          6           38.67  ...                  0.64         10   \n7839          7           98.67  ...                  0.60         13   \n7840          2           33.33  ...                  0.52          6   \n7841          2           26.67  ...                 13.53         12   \n\n      total_sale_avg  exclusive_sale_avg  revenue_contribution  produc_id  \\\n1              88.00                0.00                 25.34         13   \n3              85.33                0.00                 23.06         12   \n5              82.67                0.00                 22.02         15   \n7              26.67                0.00                  3.59         16   \n8              97.33                5.33                 36.49         10   \n...              ...                 ...                   ...        ...   \n7836           74.67                0.00                 14.59         13   \n7837           57.33                0.00                  9.93         13   \n7839           86.67                0.00                 25.85         15   \n7840           58.67                0.00                 10.37         10   \n7841           16.00                0.00                  1.02         15   \n\n      total_sale_avg  exclusive_sale_avg  revenue_contribution  \\\n1             100.00                12.0                 42.07   \n3              21.33                 0.0                  1.56   \n5              26.67                 0.0                  3.57   \n7              36.00                 0.0                  5.44   \n8              92.00                 0.0                 23.59   \n...              ...                 ...                   ...   \n7836           84.00                 0.0                 25.10   \n7837           86.67                 0.0                 26.24   \n7839           30.67                 0.0                  4.04   \n7840           73.33                 0.0                 15.66   \n7841           38.67                 0.0                  5.92   \n\n      total_assortment_revenue  \n1                     409.8400  \n3                     380.3200  \n5                     434.2667  \n7                     442.6400  \n8                     414.5067  \n...                        ...  \n7836                  444.2400  \n7837                  466.0000  \n7839                  468.6667  \n7840                  432.6933  \n7841                  390.8000  \n\n[3227 rows x 29 columns]",
      "text/html": "<div>\n<style scoped>\n    .dataframe tbody tr th:only-of-type {\n        vertical-align: middle;\n    }\n\n    .dataframe tbody tr th {\n        vertical-align: top;\n    }\n\n    .dataframe thead th {\n        text-align: right;\n    }\n</style>\n<table border=\"1\" class=\"dataframe\">\n  <thead>\n    <tr style=\"text-align: right;\">\n      <th></th>\n      <th>produc_id</th>\n      <th>total_sale_avg</th>\n      <th>exclusive_sale_avg</th>\n      <th>revenue_contribution</th>\n      <th>produc_id</th>\n      <th>total_sale_avg</th>\n      <th>exclusive_sale_avg</th>\n      <th>revenue_contribution</th>\n      <th>produc_id</th>\n      <th>total_sale_avg</th>\n      <th>...</th>\n      <th>revenue_contribution</th>\n      <th>produc_id</th>\n      <th>total_sale_avg</th>\n      <th>exclusive_sale_avg</th>\n      <th>revenue_contribution</th>\n      <th>produc_id</th>\n      <th>total_sale_avg</th>\n      <th>exclusive_sale_avg</th>\n      <th>revenue_contribution</th>\n      <th>total_assortment_revenue</th>\n    </tr>\n  </thead>\n  <tbody>\n    <tr>\n      <th>1</th>\n      <td>2</td>\n      <td>45.33</td>\n      <td>0.0</td>\n      <td>4.38</td>\n      <td>4</td>\n      <td>12.00</td>\n      <td>0.00</td>\n      <td>0.46</td>\n      <td>6</td>\n      <td>60.00</td>\n      <td>...</td>\n      <td>14.24</td>\n      <td>11</td>\n      <td>88.00</td>\n      <td>0.00</td>\n      <td>25.34</td>\n      <td>13</td>\n      <td>100.00</td>\n      <td>12.0</td>\n      <td>42.07</td>\n      <td>409.8400</td>\n    </tr>\n    <tr>\n      <th>3</th>\n      <td>2</td>\n      <td>38.67</td>\n      <td>0.0</td>\n      <td>3.85</td>\n      <td>4</td>\n      <td>9.33</td>\n      <td>0.00</td>\n      <td>0.37</td>\n      <td>6</td>\n      <td>54.67</td>\n      <td>...</td>\n      <td>15.25</td>\n      <td>10</td>\n      <td>85.33</td>\n      <td>0.00</td>\n      <td>23.06</td>\n      <td>12</td>\n      <td>21.33</td>\n      <td>0.0</td>\n      <td>1.56</td>\n      <td>380.3200</td>\n    </tr>\n    <tr>\n      <th>5</th>\n      <td>0</td>\n      <td>53.33</td>\n      <td>0.0</td>\n      <td>9.65</td>\n      <td>6</td>\n      <td>41.33</td>\n      <td>0.00</td>\n      <td>6.42</td>\n      <td>7</td>\n      <td>98.67</td>\n      <td>...</td>\n      <td>14.30</td>\n      <td>11</td>\n      <td>82.67</td>\n      <td>0.00</td>\n      <td>22.02</td>\n      <td>15</td>\n      <td>26.67</td>\n      <td>0.0</td>\n      <td>3.57</td>\n      <td>434.2667</td>\n    </tr>\n    <tr>\n      <th>7</th>\n      <td>0</td>\n      <td>77.33</td>\n      <td>0.0</td>\n      <td>16.81</td>\n      <td>2</td>\n      <td>10.67</td>\n      <td>0.00</td>\n      <td>0.79</td>\n      <td>6</td>\n      <td>56.00</td>\n      <td>...</td>\n      <td>24.20</td>\n      <td>15</td>\n      <td>26.67</td>\n      <td>0.00</td>\n      <td>3.59</td>\n      <td>16</td>\n      <td>36.00</td>\n      <td>0.0</td>\n      <td>5.44</td>\n      <td>442.6400</td>\n    </tr>\n    <tr>\n      <th>8</th>\n      <td>2</td>\n      <td>53.33</td>\n      <td>0.0</td>\n      <td>5.40</td>\n      <td>3</td>\n      <td>65.33</td>\n      <td>0.00</td>\n      <td>12.59</td>\n      <td>4</td>\n      <td>33.33</td>\n      <td>...</td>\n      <td>17.03</td>\n      <td>7</td>\n      <td>97.33</td>\n      <td>5.33</td>\n      <td>36.49</td>\n      <td>10</td>\n      <td>92.00</td>\n      <td>0.0</td>\n      <td>23.59</td>\n      <td>414.5067</td>\n    </tr>\n    <tr>\n      <th>...</th>\n      <td>...</td>\n      <td>...</td>\n      <td>...</td>\n      <td>...</td>\n      <td>...</td>\n      <td>...</td>\n      <td>...</td>\n      <td>...</td>\n      <td>...</td>\n      <td>...</td>\n      <td>...</td>\n      <td>...</td>\n      <td>...</td>\n      <td>...</td>\n      <td>...</td>\n      <td>...</td>\n      <td>...</td>\n      <td>...</td>\n      <td>...</td>\n      <td>...</td>\n      <td>...</td>\n    </tr>\n    <tr>\n      <th>7836</th>\n      <td>2</td>\n      <td>32.00</td>\n      <td>0.0</td>\n      <td>2.62</td>\n      <td>3</td>\n      <td>42.67</td>\n      <td>0.00</td>\n      <td>6.61</td>\n      <td>4</td>\n      <td>14.67</td>\n      <td>...</td>\n      <td>38.43</td>\n      <td>9</td>\n      <td>74.67</td>\n      <td>0.00</td>\n      <td>14.59</td>\n      <td>13</td>\n      <td>84.00</td>\n      <td>0.0</td>\n      <td>25.10</td>\n      <td>444.2400</td>\n    </tr>\n    <tr>\n      <th>7837</th>\n      <td>1</td>\n      <td>66.67</td>\n      <td>0.0</td>\n      <td>16.01</td>\n      <td>2</td>\n      <td>25.33</td>\n      <td>0.00</td>\n      <td>1.91</td>\n      <td>6</td>\n      <td>38.67</td>\n      <td>...</td>\n      <td>0.64</td>\n      <td>10</td>\n      <td>57.33</td>\n      <td>0.00</td>\n      <td>9.93</td>\n      <td>13</td>\n      <td>86.67</td>\n      <td>0.0</td>\n      <td>26.24</td>\n      <td>466.0000</td>\n    </tr>\n    <tr>\n      <th>7839</th>\n      <td>3</td>\n      <td>45.33</td>\n      <td>0.0</td>\n      <td>6.74</td>\n      <td>6</td>\n      <td>58.67</td>\n      <td>0.00</td>\n      <td>9.58</td>\n      <td>7</td>\n      <td>98.67</td>\n      <td>...</td>\n      <td>0.60</td>\n      <td>13</td>\n      <td>86.67</td>\n      <td>0.00</td>\n      <td>25.85</td>\n      <td>15</td>\n      <td>30.67</td>\n      <td>0.0</td>\n      <td>4.04</td>\n      <td>468.6667</td>\n    </tr>\n    <tr>\n      <th>7840</th>\n      <td>0</td>\n      <td>89.33</td>\n      <td>0.0</td>\n      <td>22.61</td>\n      <td>1</td>\n      <td>98.67</td>\n      <td>9.33</td>\n      <td>38.77</td>\n      <td>2</td>\n      <td>33.33</td>\n      <td>...</td>\n      <td>0.52</td>\n      <td>6</td>\n      <td>58.67</td>\n      <td>0.00</td>\n      <td>10.37</td>\n      <td>10</td>\n      <td>73.33</td>\n      <td>0.0</td>\n      <td>15.66</td>\n      <td>432.6933</td>\n    </tr>\n    <tr>\n      <th>7841</th>\n      <td>0</td>\n      <td>80.00</td>\n      <td>0.0</td>\n      <td>21.06</td>\n      <td>1</td>\n      <td>98.67</td>\n      <td>18.67</td>\n      <td>46.09</td>\n      <td>2</td>\n      <td>26.67</td>\n      <td>...</td>\n      <td>13.53</td>\n      <td>12</td>\n      <td>16.00</td>\n      <td>0.00</td>\n      <td>1.02</td>\n      <td>15</td>\n      <td>38.67</td>\n      <td>0.0</td>\n      <td>5.92</td>\n      <td>390.8000</td>\n    </tr>\n  </tbody>\n</table>\n<p>3227 rows × 29 columns</p>\n</div>"
     },
     "execution_count": 4,
     "metadata": {},
     "output_type": "execute_result"
    }
   ],
   "source": [
    "target_item_id = 6\n",
    "\n",
    "assortment_ids = utils.get_assortments_with_item_id(clean_df_17x7, target_item_id)\n",
    "\n",
    "filtered_by_item_df = df_17x7_original.iloc[assortment_ids]\n",
    "filtered_by_item_df"
   ],
   "metadata": {
    "collapsed": false,
    "pycharm": {
     "name": "#%%\n"
    }
   }
  },
  {
   "cell_type": "code",
   "execution_count": 5,
   "outputs": [
    {
     "data": {
      "text/plain": "      item 0  item 1  item 2  item 3  item 4  item 5  item 7  item 8  item 9  \\\n0        0.0     0.0     1.0     0.0     1.0     0.0     0.0     1.0     1.0   \n1        0.0     0.0     1.0     0.0     1.0     0.0     1.0     0.0     1.0   \n2        1.0     0.0     0.0     0.0     0.0     0.0     1.0     1.0     0.0   \n3        1.0     0.0     1.0     0.0     0.0     0.0     1.0     0.0     0.0   \n4        0.0     0.0     1.0     1.0     1.0     1.0     1.0     0.0     0.0   \n...      ...     ...     ...     ...     ...     ...     ...     ...     ...   \n3222     0.0     0.0     1.0     1.0     1.0     0.0     1.0     0.0     1.0   \n3223     0.0     1.0     1.0     0.0     0.0     0.0     1.0     1.0     0.0   \n3224     0.0     0.0     0.0     1.0     0.0     0.0     1.0     0.0     0.0   \n3225     1.0     1.0     1.0     1.0     0.0     1.0     0.0     0.0     0.0   \n3226     1.0     1.0     1.0     0.0     0.0     0.0     0.0     0.0     0.0   \n\n      item 10  item 11  item 12  item 13  item 14  item 15  item 16  \\\n0         0.0      1.0      0.0      1.0      0.0      0.0      0.0   \n1         1.0      0.0      1.0      0.0      0.0      0.0      0.0   \n2         1.0      1.0      0.0      0.0      0.0      1.0      0.0   \n3         0.0      1.0      0.0      0.0      0.0      1.0      1.0   \n4         1.0      0.0      0.0      0.0      0.0      0.0      0.0   \n...       ...      ...      ...      ...      ...      ...      ...   \n3222      0.0      0.0      0.0      1.0      0.0      0.0      0.0   \n3223      1.0      0.0      0.0      1.0      0.0      0.0      0.0   \n3224      1.0      0.0      1.0      1.0      0.0      1.0      0.0   \n3225      1.0      0.0      0.0      0.0      0.0      0.0      0.0   \n3226      1.0      0.0      1.0      0.0      0.0      1.0      0.0   \n\n      target_revenue_contribution  \n0                       46.721760  \n1                       41.036528  \n2                       27.879922  \n3                       43.334456  \n4                       70.590491  \n...                           ...  \n3222                    42.158376  \n3223                    26.515400  \n3224                    44.898270  \n3225                    44.870295  \n3226                    34.312240  \n\n[3227 rows x 17 columns]",
      "text/html": "<div>\n<style scoped>\n    .dataframe tbody tr th:only-of-type {\n        vertical-align: middle;\n    }\n\n    .dataframe tbody tr th {\n        vertical-align: top;\n    }\n\n    .dataframe thead th {\n        text-align: right;\n    }\n</style>\n<table border=\"1\" class=\"dataframe\">\n  <thead>\n    <tr style=\"text-align: right;\">\n      <th></th>\n      <th>item 0</th>\n      <th>item 1</th>\n      <th>item 2</th>\n      <th>item 3</th>\n      <th>item 4</th>\n      <th>item 5</th>\n      <th>item 7</th>\n      <th>item 8</th>\n      <th>item 9</th>\n      <th>item 10</th>\n      <th>item 11</th>\n      <th>item 12</th>\n      <th>item 13</th>\n      <th>item 14</th>\n      <th>item 15</th>\n      <th>item 16</th>\n      <th>target_revenue_contribution</th>\n    </tr>\n  </thead>\n  <tbody>\n    <tr>\n      <th>0</th>\n      <td>0.0</td>\n      <td>0.0</td>\n      <td>1.0</td>\n      <td>0.0</td>\n      <td>1.0</td>\n      <td>0.0</td>\n      <td>0.0</td>\n      <td>1.0</td>\n      <td>1.0</td>\n      <td>0.0</td>\n      <td>1.0</td>\n      <td>0.0</td>\n      <td>1.0</td>\n      <td>0.0</td>\n      <td>0.0</td>\n      <td>0.0</td>\n      <td>46.721760</td>\n    </tr>\n    <tr>\n      <th>1</th>\n      <td>0.0</td>\n      <td>0.0</td>\n      <td>1.0</td>\n      <td>0.0</td>\n      <td>1.0</td>\n      <td>0.0</td>\n      <td>1.0</td>\n      <td>0.0</td>\n      <td>1.0</td>\n      <td>1.0</td>\n      <td>0.0</td>\n      <td>1.0</td>\n      <td>0.0</td>\n      <td>0.0</td>\n      <td>0.0</td>\n      <td>0.0</td>\n      <td>41.036528</td>\n    </tr>\n    <tr>\n      <th>2</th>\n      <td>1.0</td>\n      <td>0.0</td>\n      <td>0.0</td>\n      <td>0.0</td>\n      <td>0.0</td>\n      <td>0.0</td>\n      <td>1.0</td>\n      <td>1.0</td>\n      <td>0.0</td>\n      <td>1.0</td>\n      <td>1.0</td>\n      <td>0.0</td>\n      <td>0.0</td>\n      <td>0.0</td>\n      <td>1.0</td>\n      <td>0.0</td>\n      <td>27.879922</td>\n    </tr>\n    <tr>\n      <th>3</th>\n      <td>1.0</td>\n      <td>0.0</td>\n      <td>1.0</td>\n      <td>0.0</td>\n      <td>0.0</td>\n      <td>0.0</td>\n      <td>1.0</td>\n      <td>0.0</td>\n      <td>0.0</td>\n      <td>0.0</td>\n      <td>1.0</td>\n      <td>0.0</td>\n      <td>0.0</td>\n      <td>0.0</td>\n      <td>1.0</td>\n      <td>1.0</td>\n      <td>43.334456</td>\n    </tr>\n    <tr>\n      <th>4</th>\n      <td>0.0</td>\n      <td>0.0</td>\n      <td>1.0</td>\n      <td>1.0</td>\n      <td>1.0</td>\n      <td>1.0</td>\n      <td>1.0</td>\n      <td>0.0</td>\n      <td>0.0</td>\n      <td>1.0</td>\n      <td>0.0</td>\n      <td>0.0</td>\n      <td>0.0</td>\n      <td>0.0</td>\n      <td>0.0</td>\n      <td>0.0</td>\n      <td>70.590491</td>\n    </tr>\n    <tr>\n      <th>...</th>\n      <td>...</td>\n      <td>...</td>\n      <td>...</td>\n      <td>...</td>\n      <td>...</td>\n      <td>...</td>\n      <td>...</td>\n      <td>...</td>\n      <td>...</td>\n      <td>...</td>\n      <td>...</td>\n      <td>...</td>\n      <td>...</td>\n      <td>...</td>\n      <td>...</td>\n      <td>...</td>\n      <td>...</td>\n    </tr>\n    <tr>\n      <th>3222</th>\n      <td>0.0</td>\n      <td>0.0</td>\n      <td>1.0</td>\n      <td>1.0</td>\n      <td>1.0</td>\n      <td>0.0</td>\n      <td>1.0</td>\n      <td>0.0</td>\n      <td>1.0</td>\n      <td>0.0</td>\n      <td>0.0</td>\n      <td>0.0</td>\n      <td>1.0</td>\n      <td>0.0</td>\n      <td>0.0</td>\n      <td>0.0</td>\n      <td>42.158376</td>\n    </tr>\n    <tr>\n      <th>3223</th>\n      <td>0.0</td>\n      <td>1.0</td>\n      <td>1.0</td>\n      <td>0.0</td>\n      <td>0.0</td>\n      <td>0.0</td>\n      <td>1.0</td>\n      <td>1.0</td>\n      <td>0.0</td>\n      <td>1.0</td>\n      <td>0.0</td>\n      <td>0.0</td>\n      <td>1.0</td>\n      <td>0.0</td>\n      <td>0.0</td>\n      <td>0.0</td>\n      <td>26.515400</td>\n    </tr>\n    <tr>\n      <th>3224</th>\n      <td>0.0</td>\n      <td>0.0</td>\n      <td>0.0</td>\n      <td>1.0</td>\n      <td>0.0</td>\n      <td>0.0</td>\n      <td>1.0</td>\n      <td>0.0</td>\n      <td>0.0</td>\n      <td>1.0</td>\n      <td>0.0</td>\n      <td>1.0</td>\n      <td>1.0</td>\n      <td>0.0</td>\n      <td>1.0</td>\n      <td>0.0</td>\n      <td>44.898270</td>\n    </tr>\n    <tr>\n      <th>3225</th>\n      <td>1.0</td>\n      <td>1.0</td>\n      <td>1.0</td>\n      <td>1.0</td>\n      <td>0.0</td>\n      <td>1.0</td>\n      <td>0.0</td>\n      <td>0.0</td>\n      <td>0.0</td>\n      <td>1.0</td>\n      <td>0.0</td>\n      <td>0.0</td>\n      <td>0.0</td>\n      <td>0.0</td>\n      <td>0.0</td>\n      <td>0.0</td>\n      <td>44.870295</td>\n    </tr>\n    <tr>\n      <th>3226</th>\n      <td>1.0</td>\n      <td>1.0</td>\n      <td>1.0</td>\n      <td>0.0</td>\n      <td>0.0</td>\n      <td>0.0</td>\n      <td>0.0</td>\n      <td>0.0</td>\n      <td>0.0</td>\n      <td>1.0</td>\n      <td>0.0</td>\n      <td>1.0</td>\n      <td>0.0</td>\n      <td>0.0</td>\n      <td>1.0</td>\n      <td>0.0</td>\n      <td>34.312240</td>\n    </tr>\n  </tbody>\n</table>\n<p>3227 rows × 17 columns</p>\n</div>"
     },
     "execution_count": 5,
     "metadata": {},
     "output_type": "execute_result"
    }
   ],
   "source": [
    "columnNames = utils.columnNames_builder(17, \"target_revenue_contribution\")\n",
    "\n",
    "# df_B = pd.DataFrame(columns=columnNames, index=df_17x7_original.index)\n",
    "test = filtered_by_item_df.apply(lambda row: utils.df_A_builder(row, 17, columnNames, target_item_id), axis=1)\n",
    "\n",
    "# create df in order to predict target_revenue_contribution\n",
    "df_A = pd.DataFrame(list(test), columns=columnNames)\n",
    "df_A.drop(\"item {}\".format(target_item_id), axis=1, inplace=True)\n",
    "df_A"
   ],
   "metadata": {
    "collapsed": false,
    "pycharm": {
     "name": "#%%\n"
    }
   }
  },
  {
   "cell_type": "markdown",
   "source": [
    "### Split dataset to train and test"
   ],
   "metadata": {
    "collapsed": false
   }
  },
  {
   "cell_type": "code",
   "source": [
    "y = df_A['target_revenue_contribution']\n",
    "x = df_A.drop(\"target_revenue_contribution\", axis=1)\n",
    "\n",
    "X_train, X_test, y_train, y_test = train_test_split(x, y, test_size=0.3, random_state=42)\n",
    "results = []"
   ],
   "metadata": {
    "collapsed": false,
    "pycharm": {
     "name": "#%%\n"
    }
   },
   "execution_count": 6,
   "outputs": []
  },
  {
   "cell_type": "markdown",
   "source": [
    "### Linear Regression For Case 1.A\n"
   ],
   "metadata": {
    "collapsed": false,
    "pycharm": {
     "name": "#%% md\n"
    }
   }
  },
  {
   "cell_type": "code",
   "execution_count": 7,
   "outputs": [
    {
     "name": "stdout",
     "output_type": "stream",
     "text": [
      "\n",
      "Linear Regression - Train accuracy:  0.8327946721069373\n",
      "\n",
      "Linear Regression - Test accuracy:  0.8465909211893805\n"
     ]
    }
   ],
   "source": [
    "lr = LinearRegression()\n",
    "lr.fit(X_train, y_train)\n",
    "pred = lr.predict(X_train)\n",
    "print('\\nLinear Regression - Train accuracy: ', r2_score(y_train, pred))\n",
    "\n",
    "pred = lr.predict(X_test)\n",
    "print('\\nLinear Regression - Test accuracy: ', r2_score(y_test, pred))\n",
    "\n",
    "results.append({\n",
    "    \"algorithm\": \"LinearRegression\",\n",
    "    \"train_score\": r2_score(y_train, lr.predict(X_train)),\n",
    "    \"test_score\": r2_score(y_test, lr.predict(X_test))\n",
    "})"
   ],
   "metadata": {
    "collapsed": false,
    "pycharm": {
     "name": "#%%\n"
    }
   }
  },
  {
   "cell_type": "code",
   "execution_count": 8,
   "outputs": [
    {
     "name": "stdout",
     "output_type": "stream",
     "text": [
      "The mean squared error (MSE) on test set: 54.5201\n",
      "The root mean squared error (RMSE) on test set: 7.3838\n",
      "Repressor accuracy based on (RMSE): 85.2426\n"
     ]
    }
   ],
   "source": [
    "mse = mean_squared_error(y_test, lr.predict(X_test))\n",
    "print(\"The mean squared error (MSE) on test set: {:.4f}\".format(mse))\n",
    "print(\"The root mean squared error (RMSE) on test set: {:.4f}\".format(np.sqrt(mse)))\n",
    "print(\"Repressor accuracy based on (RMSE): {:.4f}\".format(helperUtils.calculateRMSE_PersentagePresision(y_train, np.sqrt(mse))))"
   ],
   "metadata": {
    "collapsed": false,
    "pycharm": {
     "name": "#%%\n"
    }
   }
  },
  {
   "cell_type": "markdown",
   "source": [
    "### Applay gradiant boosting for 1.A"
   ],
   "metadata": {
    "collapsed": false
   }
  },
  {
   "cell_type": "code",
   "source": [
    "params = {'n_estimators': 500,\n",
    "          'max_depth': 2,\n",
    "          'min_samples_split': 5,\n",
    "          'learning_rate': 0.01,\n",
    "          'loss': 'ls'}\n",
    "\n",
    "reg = GradientBoostingRegressor(**params)\n",
    "reg.fit(X_train, y_train)\n",
    "\n",
    "mse = mean_squared_error(y_test, reg.predict(X_test))\n",
    "print(\"The mean squared error (MSE) on test set: {:.4f}\".format(mse))\n",
    "print(\"The root mean squared error (RMSE) on test set: {:.4f}\".format(np.sqrt(mse)))\n",
    "print(\"Repressor accuracy based on (RMSE): {:.4f}\".format(helperUtils.calculateRMSE_PersentagePresision(y_train, np.sqrt(mse))))"
   ],
   "metadata": {
    "collapsed": false,
    "pycharm": {
     "name": "#%%\n"
    }
   },
   "execution_count": 9,
   "outputs": [
    {
     "name": "stdout",
     "output_type": "stream",
     "text": [
      "The mean squared error (MSE) on test set: 103.7411\n",
      "The root mean squared error (RMSE) on test set: 10.1853\n",
      "Repressor accuracy based on (RMSE): 79.6434\n"
     ]
    }
   ]
  },
  {
   "cell_type": "markdown",
   "source": [
    "## Case 2.A perform regression."
   ],
   "metadata": {
    "collapsed": false
   }
  },
  {
   "cell_type": "code",
   "execution_count": 10,
   "outputs": [
    {
     "name": "stdout",
     "output_type": "stream",
     "text": [
      "['item 0', 'item 1', 'item 2', 'item 3', 'item 4', 'item 5', 'item 6', 'item 7', 'item 8', 'item 9', 'item 10', 'item 11', 'item 12', 'item 13', 'item 14', 'item 15', 'item 16', 'total_assortment_revenue']\n"
     ]
    },
    {
     "data": {
      "text/plain": "      item 0  item 1  item 2  item 3  item 4  item 5  item 6  item 7  item 8  \\\n0        1.0     0.0     1.0     1.0     1.0     0.0     0.0     1.0     0.0   \n1        0.0     0.0     1.0     0.0     1.0     0.0     1.0     0.0     1.0   \n2        0.0     0.0     0.0     1.0     0.0     0.0     0.0     0.0     1.0   \n3        0.0     0.0     1.0     0.0     1.0     0.0     1.0     1.0     0.0   \n4        0.0     0.0     0.0     1.0     1.0     1.0     0.0     0.0     1.0   \n...      ...     ...     ...     ...     ...     ...     ...     ...     ...   \n7837     0.0     1.0     1.0     0.0     0.0     0.0     1.0     1.0     1.0   \n7838     1.0     1.0     1.0     1.0     0.0     0.0     0.0     1.0     0.0   \n7839     0.0     0.0     0.0     1.0     0.0     0.0     1.0     1.0     0.0   \n7840     1.0     1.0     1.0     1.0     0.0     1.0     1.0     0.0     0.0   \n7841     1.0     1.0     1.0     0.0     0.0     0.0     1.0     0.0     0.0   \n\n      item 9  item 10  item 11  item 12  item 13  item 14  item 15  item 16  \\\n0        0.0      1.0      0.0      0.0      0.0      1.0      0.0      0.0   \n1        1.0      0.0      1.0      0.0      1.0      0.0      0.0      0.0   \n2        1.0      1.0      1.0      1.0      0.0      1.0      0.0      0.0   \n3        1.0      1.0      0.0      1.0      0.0      0.0      0.0      0.0   \n4        0.0      0.0      1.0      1.0      0.0      0.0      0.0      1.0   \n...      ...      ...      ...      ...      ...      ...      ...      ...   \n7837     0.0      1.0      0.0      0.0      1.0      0.0      0.0      0.0   \n7838     0.0      0.0      0.0      1.0      0.0      1.0      0.0      0.0   \n7839     0.0      1.0      0.0      1.0      1.0      0.0      1.0      0.0   \n7840     0.0      1.0      0.0      0.0      0.0      0.0      0.0      0.0   \n7841     0.0      1.0      0.0      1.0      0.0      0.0      1.0      0.0   \n\n      total_assortment_revenue  \n0                     425.8133  \n1                     409.8400  \n2                     365.1733  \n3                     380.3200  \n4                     298.6933  \n...                        ...  \n7837                  466.0000  \n7838                  425.0133  \n7839                  468.6667  \n7840                  432.6933  \n7841                  390.8000  \n\n[7842 rows x 18 columns]",
      "text/html": "<div>\n<style scoped>\n    .dataframe tbody tr th:only-of-type {\n        vertical-align: middle;\n    }\n\n    .dataframe tbody tr th {\n        vertical-align: top;\n    }\n\n    .dataframe thead th {\n        text-align: right;\n    }\n</style>\n<table border=\"1\" class=\"dataframe\">\n  <thead>\n    <tr style=\"text-align: right;\">\n      <th></th>\n      <th>item 0</th>\n      <th>item 1</th>\n      <th>item 2</th>\n      <th>item 3</th>\n      <th>item 4</th>\n      <th>item 5</th>\n      <th>item 6</th>\n      <th>item 7</th>\n      <th>item 8</th>\n      <th>item 9</th>\n      <th>item 10</th>\n      <th>item 11</th>\n      <th>item 12</th>\n      <th>item 13</th>\n      <th>item 14</th>\n      <th>item 15</th>\n      <th>item 16</th>\n      <th>total_assortment_revenue</th>\n    </tr>\n  </thead>\n  <tbody>\n    <tr>\n      <th>0</th>\n      <td>1.0</td>\n      <td>0.0</td>\n      <td>1.0</td>\n      <td>1.0</td>\n      <td>1.0</td>\n      <td>0.0</td>\n      <td>0.0</td>\n      <td>1.0</td>\n      <td>0.0</td>\n      <td>0.0</td>\n      <td>1.0</td>\n      <td>0.0</td>\n      <td>0.0</td>\n      <td>0.0</td>\n      <td>1.0</td>\n      <td>0.0</td>\n      <td>0.0</td>\n      <td>425.8133</td>\n    </tr>\n    <tr>\n      <th>1</th>\n      <td>0.0</td>\n      <td>0.0</td>\n      <td>1.0</td>\n      <td>0.0</td>\n      <td>1.0</td>\n      <td>0.0</td>\n      <td>1.0</td>\n      <td>0.0</td>\n      <td>1.0</td>\n      <td>1.0</td>\n      <td>0.0</td>\n      <td>1.0</td>\n      <td>0.0</td>\n      <td>1.0</td>\n      <td>0.0</td>\n      <td>0.0</td>\n      <td>0.0</td>\n      <td>409.8400</td>\n    </tr>\n    <tr>\n      <th>2</th>\n      <td>0.0</td>\n      <td>0.0</td>\n      <td>0.0</td>\n      <td>1.0</td>\n      <td>0.0</td>\n      <td>0.0</td>\n      <td>0.0</td>\n      <td>0.0</td>\n      <td>1.0</td>\n      <td>1.0</td>\n      <td>1.0</td>\n      <td>1.0</td>\n      <td>1.0</td>\n      <td>0.0</td>\n      <td>1.0</td>\n      <td>0.0</td>\n      <td>0.0</td>\n      <td>365.1733</td>\n    </tr>\n    <tr>\n      <th>3</th>\n      <td>0.0</td>\n      <td>0.0</td>\n      <td>1.0</td>\n      <td>0.0</td>\n      <td>1.0</td>\n      <td>0.0</td>\n      <td>1.0</td>\n      <td>1.0</td>\n      <td>0.0</td>\n      <td>1.0</td>\n      <td>1.0</td>\n      <td>0.0</td>\n      <td>1.0</td>\n      <td>0.0</td>\n      <td>0.0</td>\n      <td>0.0</td>\n      <td>0.0</td>\n      <td>380.3200</td>\n    </tr>\n    <tr>\n      <th>4</th>\n      <td>0.0</td>\n      <td>0.0</td>\n      <td>0.0</td>\n      <td>1.0</td>\n      <td>1.0</td>\n      <td>1.0</td>\n      <td>0.0</td>\n      <td>0.0</td>\n      <td>1.0</td>\n      <td>0.0</td>\n      <td>0.0</td>\n      <td>1.0</td>\n      <td>1.0</td>\n      <td>0.0</td>\n      <td>0.0</td>\n      <td>0.0</td>\n      <td>1.0</td>\n      <td>298.6933</td>\n    </tr>\n    <tr>\n      <th>...</th>\n      <td>...</td>\n      <td>...</td>\n      <td>...</td>\n      <td>...</td>\n      <td>...</td>\n      <td>...</td>\n      <td>...</td>\n      <td>...</td>\n      <td>...</td>\n      <td>...</td>\n      <td>...</td>\n      <td>...</td>\n      <td>...</td>\n      <td>...</td>\n      <td>...</td>\n      <td>...</td>\n      <td>...</td>\n      <td>...</td>\n    </tr>\n    <tr>\n      <th>7837</th>\n      <td>0.0</td>\n      <td>1.0</td>\n      <td>1.0</td>\n      <td>0.0</td>\n      <td>0.0</td>\n      <td>0.0</td>\n      <td>1.0</td>\n      <td>1.0</td>\n      <td>1.0</td>\n      <td>0.0</td>\n      <td>1.0</td>\n      <td>0.0</td>\n      <td>0.0</td>\n      <td>1.0</td>\n      <td>0.0</td>\n      <td>0.0</td>\n      <td>0.0</td>\n      <td>466.0000</td>\n    </tr>\n    <tr>\n      <th>7838</th>\n      <td>1.0</td>\n      <td>1.0</td>\n      <td>1.0</td>\n      <td>1.0</td>\n      <td>0.0</td>\n      <td>0.0</td>\n      <td>0.0</td>\n      <td>1.0</td>\n      <td>0.0</td>\n      <td>0.0</td>\n      <td>0.0</td>\n      <td>0.0</td>\n      <td>1.0</td>\n      <td>0.0</td>\n      <td>1.0</td>\n      <td>0.0</td>\n      <td>0.0</td>\n      <td>425.0133</td>\n    </tr>\n    <tr>\n      <th>7839</th>\n      <td>0.0</td>\n      <td>0.0</td>\n      <td>0.0</td>\n      <td>1.0</td>\n      <td>0.0</td>\n      <td>0.0</td>\n      <td>1.0</td>\n      <td>1.0</td>\n      <td>0.0</td>\n      <td>0.0</td>\n      <td>1.0</td>\n      <td>0.0</td>\n      <td>1.0</td>\n      <td>1.0</td>\n      <td>0.0</td>\n      <td>1.0</td>\n      <td>0.0</td>\n      <td>468.6667</td>\n    </tr>\n    <tr>\n      <th>7840</th>\n      <td>1.0</td>\n      <td>1.0</td>\n      <td>1.0</td>\n      <td>1.0</td>\n      <td>0.0</td>\n      <td>1.0</td>\n      <td>1.0</td>\n      <td>0.0</td>\n      <td>0.0</td>\n      <td>0.0</td>\n      <td>1.0</td>\n      <td>0.0</td>\n      <td>0.0</td>\n      <td>0.0</td>\n      <td>0.0</td>\n      <td>0.0</td>\n      <td>0.0</td>\n      <td>432.6933</td>\n    </tr>\n    <tr>\n      <th>7841</th>\n      <td>1.0</td>\n      <td>1.0</td>\n      <td>1.0</td>\n      <td>0.0</td>\n      <td>0.0</td>\n      <td>0.0</td>\n      <td>1.0</td>\n      <td>0.0</td>\n      <td>0.0</td>\n      <td>0.0</td>\n      <td>1.0</td>\n      <td>0.0</td>\n      <td>1.0</td>\n      <td>0.0</td>\n      <td>0.0</td>\n      <td>1.0</td>\n      <td>0.0</td>\n      <td>390.8000</td>\n    </tr>\n  </tbody>\n</table>\n<p>7842 rows × 18 columns</p>\n</div>"
     },
     "execution_count": 10,
     "metadata": {},
     "output_type": "execute_result"
    }
   ],
   "source": [
    "columnNames = utils.columnNames_builder(17, \"total_assortment_revenue\")\n",
    "print(columnNames)\n",
    "\n",
    "# df_B = pd.DataFrame(columns=columnNames, index=df_17x7_original.index)\n",
    "test = df_17x7_original.apply(lambda row: utils.df_B_builder(row, 17, columnNames), axis=1)\n",
    "\n",
    "\n",
    "df_B = pd.DataFrame(list(test), columns=columnNames)\n",
    "df_B"
   ],
   "metadata": {
    "collapsed": false,
    "pycharm": {
     "name": "#%%\n"
    }
   }
  },
  {
   "cell_type": "markdown",
   "source": [
    "### Split Train Test dataset"
   ],
   "metadata": {
    "collapsed": false,
    "pycharm": {
     "name": "#%% md\n"
    }
   }
  },
  {
   "cell_type": "code",
   "execution_count": 11,
   "outputs": [],
   "source": [
    "y = df_B['total_assortment_revenue']\n",
    "x = df_B.drop(\"total_assortment_revenue\", axis=1)\n",
    "\n",
    "X_train, X_test, y_train, y_test = train_test_split(x, y, test_size=0.3, random_state=42)\n",
    "\n",
    "# this list will contain results in dict format in order to display them into dataframe.\n",
    "results = []"
   ],
   "metadata": {
    "collapsed": false,
    "pycharm": {
     "name": "#%%\n"
    }
   }
  },
  {
   "cell_type": "markdown",
   "source": [
    "### Linear Regression For Case 2.A"
   ],
   "metadata": {
    "collapsed": false
   }
  },
  {
   "cell_type": "code",
   "execution_count": 12,
   "outputs": [
    {
     "name": "stdout",
     "output_type": "stream",
     "text": [
      "\n",
      "Linear Regression - Train accuracy:  0.8037139428977266\n",
      "\n",
      "Linear Regression - Test accuracy:  0.804360697473882\n"
     ]
    }
   ],
   "source": [
    "lr = LinearRegression()\n",
    "lr.fit(X_train, y_train)\n",
    "pred = lr.predict(X_train)\n",
    "print('\\nLinear Regression - Train accuracy: ', r2_score(y_train, pred))\n",
    "\n",
    "pred = lr.predict(X_test)\n",
    "print('\\nLinear Regression - Test accuracy: ', r2_score(y_test, pred))\n",
    "\n",
    "results.append({\n",
    "    \"algorithm\": \"LinearRegression\",\n",
    "    \"train_score\": r2_score(y_train, lr.predict(X_train)),\n",
    "    \"test_score\": r2_score(y_test, lr.predict(X_test))\n",
    "})"
   ],
   "metadata": {
    "collapsed": false,
    "pycharm": {
     "name": "#%%\n"
    }
   }
  },
  {
   "cell_type": "code",
   "execution_count": 13,
   "outputs": [
    {
     "name": "stdout",
     "output_type": "stream",
     "text": [
      "The mean squared error (MSE) on test set: 409.7467\n",
      "The root mean squared error (RMSE) on test set: 20.2422\n",
      "Repressor accuracy based on (RMSE): 95.0554\n"
     ]
    }
   ],
   "source": [
    "mse = mean_squared_error(y_test, lr.predict(X_test))\n",
    "print(\"The mean squared error (MSE) on test set: {:.4f}\".format(mse))\n",
    "print(\"The root mean squared error (RMSE) on test set: {:.4f}\".format(np.sqrt(mse)))\n",
    "print(\"Repressor accuracy based on (RMSE): {:.4f}\".format(helperUtils.calculateRMSE_PersentagePresision(y_train, np.sqrt(mse))))"
   ],
   "metadata": {
    "collapsed": false,
    "pycharm": {
     "name": "#%%\n"
    }
   }
  },
  {
   "cell_type": "markdown",
   "source": [
    "### Applay gradiant boosting for 2.A\n",
    "\n"
   ],
   "metadata": {
    "collapsed": false
   }
  },
  {
   "cell_type": "code",
   "execution_count": 14,
   "outputs": [
    {
     "name": "stdout",
     "output_type": "stream",
     "text": [
      "The mean squared error (MSE) on test set: 566.7541\n",
      "The root mean squared error (RMSE) on test set: 23.8066\n",
      "Repressor accuracy based on (RMSE): 94.1848\n"
     ]
    }
   ],
   "source": [
    "params = {'n_estimators': 500,\n",
    "          'max_depth': 2,\n",
    "          'min_samples_split': 5,\n",
    "          'learning_rate': 0.01,\n",
    "          'loss': 'ls'}\n",
    "\n",
    "reg = GradientBoostingRegressor(**params)\n",
    "reg.fit(X_train, y_train)\n",
    "\n",
    "mse = mean_squared_error(y_test, reg.predict(X_test))\n",
    "print(\"The mean squared error (MSE) on test set: {:.4f}\".format(mse))\n",
    "print(\"The root mean squared error (RMSE) on test set: {:.4f}\".format(np.sqrt(mse)))\n",
    "print(\"Repressor accuracy based on (RMSE): {:.4f}\".format(helperUtils.calculateRMSE_PersentagePresision(y_train, np.sqrt(mse))))"
   ],
   "metadata": {
    "collapsed": false,
    "pycharm": {
     "name": "#%%\n"
    }
   }
  },
  {
   "cell_type": "markdown",
   "source": [
    "# Transform Dataset To Classification problem\n",
    "\n",
    "- Create transformed df that contains all assortment products revenue\n",
    "contribution in monetrty form\n",
    "- filter assortments that contain target item"
   ],
   "metadata": {
    "collapsed": false
   }
  },
  {
   "cell_type": "code",
   "execution_count": 15,
   "outputs": [
    {
     "data": {
      "text/plain": "      item 0  item 1  item 2  item 3  item 4  item 5  item 6  item 7  item 8  \\\n0      20.43    0.00    3.32   11.12    0.64    0.00    0.00   42.99    0.00   \n1       0.00    0.00    4.38    0.00    0.46    0.00   11.40    0.00    2.10   \n2       0.00    0.00    0.00   10.83    0.00    0.00    0.00    0.00    0.80   \n3       0.00    0.00    3.85    0.00    0.37    0.00   10.79   42.45    0.00   \n4       0.00    0.00    0.00   24.34    1.54    0.56    0.00    0.00    3.58   \n...      ...     ...     ...     ...     ...     ...     ...     ...     ...   \n7837    0.00   16.01    1.91    0.00    0.00    0.00    5.69   36.91    0.64   \n7838   13.84   25.30    2.20    9.87    0.00    0.00    0.00   39.00    0.00   \n7839    0.00    0.00    0.00    6.74    0.00    0.00    9.58   37.85    0.00   \n7840   22.61   38.77    2.86    7.87    0.00    0.52   10.37    0.00    0.00   \n7841   21.06   46.09    2.26    0.00    0.00    0.00    8.78    0.00    0.00   \n\n      item 9  item 10  item 11  item 12  item 13  item 14  item 15  item 16  \\\n0       0.00    14.69     0.00     0.00     0.00     6.81     0.00     0.00   \n1      14.24     0.00    25.34     0.00    42.07     0.00     0.00     0.00   \n2      14.16    21.32    43.73     1.84     0.00     6.00     0.00     0.00   \n3      15.25    23.06     0.00     1.56     0.00     0.00     0.00     0.00   \n4       0.00     0.00    47.25     4.84     0.00     0.00     0.00    16.56   \n...      ...      ...      ...      ...      ...      ...      ...      ...   \n7837    0.00     9.93     0.00     0.00    26.24     0.00     0.00     0.00   \n7838    0.00     0.00     0.00     1.07     0.00     4.73     0.00     0.00   \n7839    0.00    14.02     0.00     0.60    25.85     0.00     4.04     0.00   \n7840    0.00    15.66     0.00     0.00     0.00     0.00     0.00     0.00   \n7841    0.00    13.53     0.00     1.02     0.00     0.00     5.92     0.00   \n\n      total_assortment_revenue  \n0                     425.8133  \n1                     409.8400  \n2                     365.1733  \n3                     380.3200  \n4                     298.6933  \n...                        ...  \n7837                  466.0000  \n7838                  425.0133  \n7839                  468.6667  \n7840                  432.6933  \n7841                  390.8000  \n\n[7842 rows x 18 columns]",
      "text/html": "<div>\n<style scoped>\n    .dataframe tbody tr th:only-of-type {\n        vertical-align: middle;\n    }\n\n    .dataframe tbody tr th {\n        vertical-align: top;\n    }\n\n    .dataframe thead th {\n        text-align: right;\n    }\n</style>\n<table border=\"1\" class=\"dataframe\">\n  <thead>\n    <tr style=\"text-align: right;\">\n      <th></th>\n      <th>item 0</th>\n      <th>item 1</th>\n      <th>item 2</th>\n      <th>item 3</th>\n      <th>item 4</th>\n      <th>item 5</th>\n      <th>item 6</th>\n      <th>item 7</th>\n      <th>item 8</th>\n      <th>item 9</th>\n      <th>item 10</th>\n      <th>item 11</th>\n      <th>item 12</th>\n      <th>item 13</th>\n      <th>item 14</th>\n      <th>item 15</th>\n      <th>item 16</th>\n      <th>total_assortment_revenue</th>\n    </tr>\n  </thead>\n  <tbody>\n    <tr>\n      <th>0</th>\n      <td>20.43</td>\n      <td>0.00</td>\n      <td>3.32</td>\n      <td>11.12</td>\n      <td>0.64</td>\n      <td>0.00</td>\n      <td>0.00</td>\n      <td>42.99</td>\n      <td>0.00</td>\n      <td>0.00</td>\n      <td>14.69</td>\n      <td>0.00</td>\n      <td>0.00</td>\n      <td>0.00</td>\n      <td>6.81</td>\n      <td>0.00</td>\n      <td>0.00</td>\n      <td>425.8133</td>\n    </tr>\n    <tr>\n      <th>1</th>\n      <td>0.00</td>\n      <td>0.00</td>\n      <td>4.38</td>\n      <td>0.00</td>\n      <td>0.46</td>\n      <td>0.00</td>\n      <td>11.40</td>\n      <td>0.00</td>\n      <td>2.10</td>\n      <td>14.24</td>\n      <td>0.00</td>\n      <td>25.34</td>\n      <td>0.00</td>\n      <td>42.07</td>\n      <td>0.00</td>\n      <td>0.00</td>\n      <td>0.00</td>\n      <td>409.8400</td>\n    </tr>\n    <tr>\n      <th>2</th>\n      <td>0.00</td>\n      <td>0.00</td>\n      <td>0.00</td>\n      <td>10.83</td>\n      <td>0.00</td>\n      <td>0.00</td>\n      <td>0.00</td>\n      <td>0.00</td>\n      <td>0.80</td>\n      <td>14.16</td>\n      <td>21.32</td>\n      <td>43.73</td>\n      <td>1.84</td>\n      <td>0.00</td>\n      <td>6.00</td>\n      <td>0.00</td>\n      <td>0.00</td>\n      <td>365.1733</td>\n    </tr>\n    <tr>\n      <th>3</th>\n      <td>0.00</td>\n      <td>0.00</td>\n      <td>3.85</td>\n      <td>0.00</td>\n      <td>0.37</td>\n      <td>0.00</td>\n      <td>10.79</td>\n      <td>42.45</td>\n      <td>0.00</td>\n      <td>15.25</td>\n      <td>23.06</td>\n      <td>0.00</td>\n      <td>1.56</td>\n      <td>0.00</td>\n      <td>0.00</td>\n      <td>0.00</td>\n      <td>0.00</td>\n      <td>380.3200</td>\n    </tr>\n    <tr>\n      <th>4</th>\n      <td>0.00</td>\n      <td>0.00</td>\n      <td>0.00</td>\n      <td>24.34</td>\n      <td>1.54</td>\n      <td>0.56</td>\n      <td>0.00</td>\n      <td>0.00</td>\n      <td>3.58</td>\n      <td>0.00</td>\n      <td>0.00</td>\n      <td>47.25</td>\n      <td>4.84</td>\n      <td>0.00</td>\n      <td>0.00</td>\n      <td>0.00</td>\n      <td>16.56</td>\n      <td>298.6933</td>\n    </tr>\n    <tr>\n      <th>...</th>\n      <td>...</td>\n      <td>...</td>\n      <td>...</td>\n      <td>...</td>\n      <td>...</td>\n      <td>...</td>\n      <td>...</td>\n      <td>...</td>\n      <td>...</td>\n      <td>...</td>\n      <td>...</td>\n      <td>...</td>\n      <td>...</td>\n      <td>...</td>\n      <td>...</td>\n      <td>...</td>\n      <td>...</td>\n      <td>...</td>\n    </tr>\n    <tr>\n      <th>7837</th>\n      <td>0.00</td>\n      <td>16.01</td>\n      <td>1.91</td>\n      <td>0.00</td>\n      <td>0.00</td>\n      <td>0.00</td>\n      <td>5.69</td>\n      <td>36.91</td>\n      <td>0.64</td>\n      <td>0.00</td>\n      <td>9.93</td>\n      <td>0.00</td>\n      <td>0.00</td>\n      <td>26.24</td>\n      <td>0.00</td>\n      <td>0.00</td>\n      <td>0.00</td>\n      <td>466.0000</td>\n    </tr>\n    <tr>\n      <th>7838</th>\n      <td>13.84</td>\n      <td>25.30</td>\n      <td>2.20</td>\n      <td>9.87</td>\n      <td>0.00</td>\n      <td>0.00</td>\n      <td>0.00</td>\n      <td>39.00</td>\n      <td>0.00</td>\n      <td>0.00</td>\n      <td>0.00</td>\n      <td>0.00</td>\n      <td>1.07</td>\n      <td>0.00</td>\n      <td>4.73</td>\n      <td>0.00</td>\n      <td>0.00</td>\n      <td>425.0133</td>\n    </tr>\n    <tr>\n      <th>7839</th>\n      <td>0.00</td>\n      <td>0.00</td>\n      <td>0.00</td>\n      <td>6.74</td>\n      <td>0.00</td>\n      <td>0.00</td>\n      <td>9.58</td>\n      <td>37.85</td>\n      <td>0.00</td>\n      <td>0.00</td>\n      <td>14.02</td>\n      <td>0.00</td>\n      <td>0.60</td>\n      <td>25.85</td>\n      <td>0.00</td>\n      <td>4.04</td>\n      <td>0.00</td>\n      <td>468.6667</td>\n    </tr>\n    <tr>\n      <th>7840</th>\n      <td>22.61</td>\n      <td>38.77</td>\n      <td>2.86</td>\n      <td>7.87</td>\n      <td>0.00</td>\n      <td>0.52</td>\n      <td>10.37</td>\n      <td>0.00</td>\n      <td>0.00</td>\n      <td>0.00</td>\n      <td>15.66</td>\n      <td>0.00</td>\n      <td>0.00</td>\n      <td>0.00</td>\n      <td>0.00</td>\n      <td>0.00</td>\n      <td>0.00</td>\n      <td>432.6933</td>\n    </tr>\n    <tr>\n      <th>7841</th>\n      <td>21.06</td>\n      <td>46.09</td>\n      <td>2.26</td>\n      <td>0.00</td>\n      <td>0.00</td>\n      <td>0.00</td>\n      <td>8.78</td>\n      <td>0.00</td>\n      <td>0.00</td>\n      <td>0.00</td>\n      <td>13.53</td>\n      <td>0.00</td>\n      <td>1.02</td>\n      <td>0.00</td>\n      <td>0.00</td>\n      <td>5.92</td>\n      <td>0.00</td>\n      <td>390.8000</td>\n    </tr>\n  </tbody>\n</table>\n<p>7842 rows × 18 columns</p>\n</div>"
     },
     "execution_count": 15,
     "metadata": {},
     "output_type": "execute_result"
    }
   ],
   "source": [
    "columnNames = utils.columnNames_builder(17, \"total_assortment_revenue\")\n",
    "\n",
    "apply_result = df_17x7_original.apply(lambda row: utils.clean_df_builder(row, 17, columnNames), axis=1)\n",
    "\n",
    "\n",
    "transformed_df = pd.DataFrame(list(apply_result), columns=columnNames)\n",
    "transformed_df"
   ],
   "metadata": {
    "collapsed": false,
    "pycharm": {
     "name": "#%%\n"
    }
   }
  },
  {
   "cell_type": "code",
   "execution_count": 16,
   "outputs": [
    {
     "data": {
      "text/plain": "      item 0  item 1  item 2  item 3  item 4  item 5  item 6  item 7  item 8  \\\n0      20.43    0.00    3.32   11.12    0.64    0.00    0.00   42.99    0.00   \n1       0.00    0.00    4.38    0.00    0.46    0.00   11.40    0.00    2.10   \n3       0.00    0.00    3.85    0.00    0.37    0.00   10.79   42.45    0.00   \n4       0.00    0.00    0.00   24.34    1.54    0.56    0.00    0.00    3.58   \n8       0.00    0.00    5.40   12.59    1.39    0.85   17.03   36.49    0.00   \n...      ...     ...     ...     ...     ...     ...     ...     ...     ...   \n7828    0.00    0.00    0.00    0.00    0.36    0.00    5.56    0.00    0.00   \n7831    0.00    0.00    0.00    0.00    0.56    0.00   10.17    0.00    0.00   \n7832    0.00   24.36    0.00    6.01    0.72    0.43    9.12    0.00    0.00   \n7833    0.00    0.00    0.00    0.00    0.90    0.45    8.49   47.36    0.00   \n7836    0.00    0.00    2.62    6.61    0.50    0.00    9.49   38.43    0.00   \n\n      item 9  item 10  item 11  item 12  item 13  item 14  item 15  item 16  \\\n0       0.00    14.69     0.00     0.00     0.00     6.81     0.00     0.00   \n1      14.24     0.00    25.34     0.00    42.07     0.00     0.00     0.00   \n3      15.25    23.06     0.00     1.56     0.00     0.00     0.00     0.00   \n4       0.00     0.00    47.25     4.84     0.00     0.00     0.00    16.56   \n8       0.00    23.59     0.00     0.00     0.00     0.00     0.00     0.00   \n...      ...      ...      ...      ...      ...      ...      ...      ...   \n7828    9.12    14.71    23.70     0.00    38.78     2.44     0.00     0.00   \n7831   14.50    24.83    40.97     1.70     0.00     0.00     5.93     0.00   \n7832    0.00    14.65     0.00     0.00    42.05     0.00     0.00     0.00   \n7833   12.39     0.00    21.94     0.00     0.00     0.00     0.00     5.79   \n7836   14.59     0.00     0.00     0.00    25.10     0.00     0.00     0.00   \n\n      total_assortment_revenue  \n0                     425.8133  \n1                     409.8400  \n3                     380.3200  \n4                     298.6933  \n8                     414.5067  \n...                        ...  \n7828                  406.5067  \n7831                  368.4000  \n7832                  414.0267  \n7833                  372.9067  \n7836                  444.2400  \n\n[3229 rows x 18 columns]",
      "text/html": "<div>\n<style scoped>\n    .dataframe tbody tr th:only-of-type {\n        vertical-align: middle;\n    }\n\n    .dataframe tbody tr th {\n        vertical-align: top;\n    }\n\n    .dataframe thead th {\n        text-align: right;\n    }\n</style>\n<table border=\"1\" class=\"dataframe\">\n  <thead>\n    <tr style=\"text-align: right;\">\n      <th></th>\n      <th>item 0</th>\n      <th>item 1</th>\n      <th>item 2</th>\n      <th>item 3</th>\n      <th>item 4</th>\n      <th>item 5</th>\n      <th>item 6</th>\n      <th>item 7</th>\n      <th>item 8</th>\n      <th>item 9</th>\n      <th>item 10</th>\n      <th>item 11</th>\n      <th>item 12</th>\n      <th>item 13</th>\n      <th>item 14</th>\n      <th>item 15</th>\n      <th>item 16</th>\n      <th>total_assortment_revenue</th>\n    </tr>\n  </thead>\n  <tbody>\n    <tr>\n      <th>0</th>\n      <td>20.43</td>\n      <td>0.00</td>\n      <td>3.32</td>\n      <td>11.12</td>\n      <td>0.64</td>\n      <td>0.00</td>\n      <td>0.00</td>\n      <td>42.99</td>\n      <td>0.00</td>\n      <td>0.00</td>\n      <td>14.69</td>\n      <td>0.00</td>\n      <td>0.00</td>\n      <td>0.00</td>\n      <td>6.81</td>\n      <td>0.00</td>\n      <td>0.00</td>\n      <td>425.8133</td>\n    </tr>\n    <tr>\n      <th>1</th>\n      <td>0.00</td>\n      <td>0.00</td>\n      <td>4.38</td>\n      <td>0.00</td>\n      <td>0.46</td>\n      <td>0.00</td>\n      <td>11.40</td>\n      <td>0.00</td>\n      <td>2.10</td>\n      <td>14.24</td>\n      <td>0.00</td>\n      <td>25.34</td>\n      <td>0.00</td>\n      <td>42.07</td>\n      <td>0.00</td>\n      <td>0.00</td>\n      <td>0.00</td>\n      <td>409.8400</td>\n    </tr>\n    <tr>\n      <th>3</th>\n      <td>0.00</td>\n      <td>0.00</td>\n      <td>3.85</td>\n      <td>0.00</td>\n      <td>0.37</td>\n      <td>0.00</td>\n      <td>10.79</td>\n      <td>42.45</td>\n      <td>0.00</td>\n      <td>15.25</td>\n      <td>23.06</td>\n      <td>0.00</td>\n      <td>1.56</td>\n      <td>0.00</td>\n      <td>0.00</td>\n      <td>0.00</td>\n      <td>0.00</td>\n      <td>380.3200</td>\n    </tr>\n    <tr>\n      <th>4</th>\n      <td>0.00</td>\n      <td>0.00</td>\n      <td>0.00</td>\n      <td>24.34</td>\n      <td>1.54</td>\n      <td>0.56</td>\n      <td>0.00</td>\n      <td>0.00</td>\n      <td>3.58</td>\n      <td>0.00</td>\n      <td>0.00</td>\n      <td>47.25</td>\n      <td>4.84</td>\n      <td>0.00</td>\n      <td>0.00</td>\n      <td>0.00</td>\n      <td>16.56</td>\n      <td>298.6933</td>\n    </tr>\n    <tr>\n      <th>8</th>\n      <td>0.00</td>\n      <td>0.00</td>\n      <td>5.40</td>\n      <td>12.59</td>\n      <td>1.39</td>\n      <td>0.85</td>\n      <td>17.03</td>\n      <td>36.49</td>\n      <td>0.00</td>\n      <td>0.00</td>\n      <td>23.59</td>\n      <td>0.00</td>\n      <td>0.00</td>\n      <td>0.00</td>\n      <td>0.00</td>\n      <td>0.00</td>\n      <td>0.00</td>\n      <td>414.5067</td>\n    </tr>\n    <tr>\n      <th>...</th>\n      <td>...</td>\n      <td>...</td>\n      <td>...</td>\n      <td>...</td>\n      <td>...</td>\n      <td>...</td>\n      <td>...</td>\n      <td>...</td>\n      <td>...</td>\n      <td>...</td>\n      <td>...</td>\n      <td>...</td>\n      <td>...</td>\n      <td>...</td>\n      <td>...</td>\n      <td>...</td>\n      <td>...</td>\n      <td>...</td>\n    </tr>\n    <tr>\n      <th>7828</th>\n      <td>0.00</td>\n      <td>0.00</td>\n      <td>0.00</td>\n      <td>0.00</td>\n      <td>0.36</td>\n      <td>0.00</td>\n      <td>5.56</td>\n      <td>0.00</td>\n      <td>0.00</td>\n      <td>9.12</td>\n      <td>14.71</td>\n      <td>23.70</td>\n      <td>0.00</td>\n      <td>38.78</td>\n      <td>2.44</td>\n      <td>0.00</td>\n      <td>0.00</td>\n      <td>406.5067</td>\n    </tr>\n    <tr>\n      <th>7831</th>\n      <td>0.00</td>\n      <td>0.00</td>\n      <td>0.00</td>\n      <td>0.00</td>\n      <td>0.56</td>\n      <td>0.00</td>\n      <td>10.17</td>\n      <td>0.00</td>\n      <td>0.00</td>\n      <td>14.50</td>\n      <td>24.83</td>\n      <td>40.97</td>\n      <td>1.70</td>\n      <td>0.00</td>\n      <td>0.00</td>\n      <td>5.93</td>\n      <td>0.00</td>\n      <td>368.4000</td>\n    </tr>\n    <tr>\n      <th>7832</th>\n      <td>0.00</td>\n      <td>24.36</td>\n      <td>0.00</td>\n      <td>6.01</td>\n      <td>0.72</td>\n      <td>0.43</td>\n      <td>9.12</td>\n      <td>0.00</td>\n      <td>0.00</td>\n      <td>0.00</td>\n      <td>14.65</td>\n      <td>0.00</td>\n      <td>0.00</td>\n      <td>42.05</td>\n      <td>0.00</td>\n      <td>0.00</td>\n      <td>0.00</td>\n      <td>414.0267</td>\n    </tr>\n    <tr>\n      <th>7833</th>\n      <td>0.00</td>\n      <td>0.00</td>\n      <td>0.00</td>\n      <td>0.00</td>\n      <td>0.90</td>\n      <td>0.45</td>\n      <td>8.49</td>\n      <td>47.36</td>\n      <td>0.00</td>\n      <td>12.39</td>\n      <td>0.00</td>\n      <td>21.94</td>\n      <td>0.00</td>\n      <td>0.00</td>\n      <td>0.00</td>\n      <td>0.00</td>\n      <td>5.79</td>\n      <td>372.9067</td>\n    </tr>\n    <tr>\n      <th>7836</th>\n      <td>0.00</td>\n      <td>0.00</td>\n      <td>2.62</td>\n      <td>6.61</td>\n      <td>0.50</td>\n      <td>0.00</td>\n      <td>9.49</td>\n      <td>38.43</td>\n      <td>0.00</td>\n      <td>14.59</td>\n      <td>0.00</td>\n      <td>0.00</td>\n      <td>0.00</td>\n      <td>25.10</td>\n      <td>0.00</td>\n      <td>0.00</td>\n      <td>0.00</td>\n      <td>444.2400</td>\n    </tr>\n  </tbody>\n</table>\n<p>3229 rows × 18 columns</p>\n</div>"
     },
     "execution_count": 16,
     "metadata": {},
     "output_type": "execute_result"
    }
   ],
   "source": [
    "target_item_id = 4\n",
    "\n",
    "assortment_ids = utils.get_assortments_with_item_id(clean_df_17x7, target_item_id)\n",
    "\n",
    "filtered_by_item_df = transformed_df.iloc[assortment_ids]\n",
    "filtered_by_item_df"
   ],
   "metadata": {
    "collapsed": false,
    "pycharm": {
     "name": "#%%\n"
    }
   }
  },
  {
   "cell_type": "markdown",
   "source": [
    "### Eksagoume avg tou mean_contribution\n",
    "Eksagoume ton meso oro tis mesis posostieas sinisforas gia to train set (ton meso oro apo ta assortemts sta opoia emfanizete to proion)"
   ],
   "metadata": {
    "collapsed": false,
    "pycharm": {
     "name": "#%% md\n"
    }
   }
  },
  {
   "cell_type": "code",
   "execution_count": 17,
   "outputs": [
    {
     "data": {
      "text/plain": "item 0                       18.916481\nitem 1                       30.813594\nitem 2                        3.507274\nitem 3                       10.802318\nitem 4                        0.785088\nitem 5                        0.505239\nitem 6                       12.662482\nitem 7                       40.768995\nitem 8                        1.750305\nitem 9                       14.508958\nitem 10                      18.173242\nitem 11                      24.372052\nitem 12                       2.281954\nitem 13                      35.763209\nitem 14                       5.672377\nitem 15                       7.796627\nitem 16                       9.509199\ntotal_assortment_revenue    408.477688\ndtype: float64"
     },
     "execution_count": 17,
     "metadata": {},
     "output_type": "execute_result"
    }
   ],
   "source": [
    "avg_series = transformed_df.apply(lambda col: utils.mean_item_rev_cont(col))\n",
    "avg_series"
   ],
   "metadata": {
    "collapsed": false,
    "pycharm": {
     "name": "#%%\n"
    }
   }
  },
  {
   "cell_type": "code",
   "source": [],
   "metadata": {
    "collapsed": false,
    "pycharm": {
     "name": "#%%\n"
    }
   },
   "execution_count": 17,
   "outputs": []
  },
  {
   "cell_type": "code",
   "source": [
    "def kFoldCV(df, targetLabel, classifiers):\n",
    "    \"\"\"\n",
    "    Orizoume mia helper function gia na pragmatopoiei k-fold cross validation\n",
    "\n",
    "    :param df: the x dataset of cross validation\n",
    "    :param label: the y dataset of cross validation\n",
    "    :param classifiers: is a dictionary of classifiers in the folowung format\n",
    "    {\n",
    "        \"name\": \"KNN\",\n",
    "        \"classifier\": KNeighborsClassifier(),\n",
    "        \"train_scores\": [],\n",
    "        \"acc_scores\": []\n",
    "    }\n",
    "    :return: returns the trained classifiers dict\n",
    "    \"\"\"\n",
    "    kf = KFold(n_splits=10, random_state=None)\n",
    "\n",
    "    for train_index, test_index in kf.split(df):\n",
    "\n",
    "        # update train and test y\n",
    "        train_df = df.iloc[train_index]\n",
    "        avg_series = utils.get_avg_series(train_df, targetLabel)\n",
    "\n",
    "        # prepare df for classify\n",
    "        # 1 convert all features to 0 and 1\n",
    "        # conver label based on avg_mean of selected index\n",
    "        updated_df = utils.prepare_df_for_classify(df, avg_series, targetLabel)# targetLabel if targetLabel != \"label\" else None)\n",
    "        # display(updated_df)\n",
    "\n",
    "\n",
    "        normalized_df, label = utils.normalize_df(updated_df, \"label\")\n",
    "        # display(normalized_df)\n",
    "\n",
    "        X_train, X_test = normalized_df.loc[train_index, :], normalized_df.loc[test_index, :]\n",
    "        y_train, y_test = label[train_index], label[test_index]\n",
    "\n",
    "        # fit train dataset to classifiers\n",
    "        for c in classifiers:\n",
    "            c[\"classifier\"].fit(X_train, y_train)\n",
    "            c[\"train_scores\"].append( c[\"classifier\"].score(X_train, y_train))\n",
    "            c[\"acc_scores\"].append( c[\"classifier\"].score(X_test, y_test))\n",
    "\n",
    "    return classifiers"
   ],
   "metadata": {
    "collapsed": false,
    "pycharm": {
     "name": "#%%\n"
    }
   },
   "execution_count": 18,
   "outputs": []
  },
  {
   "cell_type": "markdown",
   "source": [
    "### Set up clisifiers that we will use"
   ],
   "metadata": {
    "collapsed": false
   }
  },
  {
   "cell_type": "code",
   "execution_count": 19,
   "outputs": [],
   "source": [
    "classifiers = [\n",
    "    {\n",
    "        \"name\": \"KNN\",\n",
    "        \"classifier\": KNeighborsClassifier(),\n",
    "        \"train_scores\": [],\n",
    "        \"acc_scores\": []\n",
    "    },\n",
    "    {\n",
    "        \"name\": \"LogisticRegression\",\n",
    "        \"classifier\": LogisticRegression(),\n",
    "        \"train_scores\": [],\n",
    "        \"acc_scores\": []\n",
    "    },\n",
    "    {\n",
    "        \"name\": \"DecisionTreeClassifier\",\n",
    "        \"classifier\": DecisionTreeClassifier(),\n",
    "        \"train_scores\": [],\n",
    "        \"acc_scores\": []\n",
    "    },\n",
    "    {\n",
    "        \"name\": \"GaussianNB\",\n",
    "        \"classifier\": GaussianNB(),\n",
    "        \"train_scores\": [],\n",
    "        \"acc_scores\": []\n",
    "    },\n",
    "    {\n",
    "        \"name\": \"SVC\",\n",
    "        \"classifier\": SVC(),\n",
    "        \"train_scores\": [],\n",
    "        \"acc_scores\": []\n",
    "    }\n",
    "]"
   ],
   "metadata": {
    "collapsed": false,
    "pycharm": {
     "name": "#%%\n"
    }
   }
  },
  {
   "cell_type": "markdown",
   "source": [
    "### Perform Classification 1.B"
   ],
   "metadata": {
    "collapsed": false,
    "pycharm": {
     "name": "#%% md\n"
    }
   }
  },
  {
   "cell_type": "code",
   "source": [
    "# this list will contain results in dict format in order to display them into dataframe.\n",
    "results = []\n",
    "\n",
    "classifier = kFoldCV(filtered_by_item_df, \"item {}\".format(target_item_id), classifiers)\n",
    "\n",
    "# ipologizoume tin mesi timi ton apotelesmaton tou taksinomiti mas pou proekipsan apo tin 10-fold-cross-validation\n",
    "for c in classifiers:\n",
    "    print(\"Results for classifier {}: training score: {:.4f}, Accuracy: {:.4f} using 2 Principal Components and simple kfold \\n\".format(c[\"name\"], np.mean(c[\"train_scores\"]), np.mean(c[\"acc_scores\"])))\n",
    "    results.append({\n",
    "    \"algorithm\": c[\"name\"],\n",
    "    \"test\": \"2D-PCA\",\n",
    "    \"folds\": \"K-Fold\",\n",
    "    \"train_score\": np.mean(c[\"train_scores\"]),\n",
    "    \"test_score\": np.mean(c[\"acc_scores\"])\n",
    "    })\n",
    "\n"
   ],
   "metadata": {
    "collapsed": false,
    "pycharm": {
     "name": "#%%\n"
    }
   },
   "execution_count": 20,
   "outputs": [
    {
     "name": "stdout",
     "output_type": "stream",
     "text": [
      "Results for classifier KNN: training score: 0.9505, Accuracy: 0.9452 using 2 Principal Components and simple kfold \n",
      "\n",
      "Results for classifier LogisticRegression: training score: 0.9498, Accuracy: 0.9498 using 2 Principal Components and simple kfold \n",
      "\n",
      "Results for classifier DecisionTreeClassifier: training score: 1.0000, Accuracy: 0.8944 using 2 Principal Components and simple kfold \n",
      "\n",
      "Results for classifier GaussianNB: training score: 0.9498, Accuracy: 0.9498 using 2 Principal Components and simple kfold \n",
      "\n",
      "Results for classifier SVC: training score: 0.9498, Accuracy: 0.9498 using 2 Principal Components and simple kfold \n",
      "\n"
     ]
    }
   ]
  },
  {
   "cell_type": "markdown",
   "source": [
    "### Perform Classification 2.B\n"
   ],
   "metadata": {
    "collapsed": false
   }
  },
  {
   "cell_type": "code",
   "execution_count": 21,
   "outputs": [],
   "source": [
    "transformed_df.rename(columns={\"total_assortment_revenue\": \"label\"}, inplace=True)"
   ],
   "metadata": {
    "collapsed": false,
    "pycharm": {
     "name": "#%%\n"
    }
   }
  },
  {
   "cell_type": "code",
   "execution_count": 22,
   "outputs": [
    {
     "name": "stdout",
     "output_type": "stream",
     "text": [
      "Results for classifier KNN: training score: 0.8601, Accuracy: 0.7724 using 2 Principal Components and simple kfold \n",
      "\n",
      "Results for classifier LogisticRegression: training score: 0.8605, Accuracy: 0.8582 using 2 Principal Components and simple kfold \n",
      "\n",
      "Results for classifier DecisionTreeClassifier: training score: 1.0000, Accuracy: 0.7958 using 2 Principal Components and simple kfold \n",
      "\n",
      "Results for classifier GaussianNB: training score: 0.8595, Accuracy: 0.8568 using 2 Principal Components and simple kfold \n",
      "\n",
      "Results for classifier SVC: training score: 0.8895, Accuracy: 0.8554 using 2 Principal Components and simple kfold \n",
      "\n"
     ]
    }
   ],
   "source": [
    "# reset classifiers\n",
    "for c in classifiers:\n",
    "    c[\"acc_scores\"] = []\n",
    "    c[\"train_scores\"] = []\n",
    "\n",
    "classifier = kFoldCV(transformed_df, \"label\", classifiers)\n",
    "\n",
    "# ipologizoume tin mesi timi ton apotelesmaton tou taksinomiti mas pou proekipsan apo tin 10-fold-cross-validation\n",
    "for c in classifiers:\n",
    "    print(\"Results for classifier {}: training score: {:.4f}, Accuracy: {:.4f} using 2 Principal Components and simple kfold \\n\".format(c[\"name\"], np.mean(c[\"train_scores\"]), np.mean(c[\"acc_scores\"])))\n",
    "    results.append({\n",
    "    \"algorithm\": c[\"name\"],\n",
    "    \"test\": \"2D-PCA\",\n",
    "    \"folds\": \"K-Fold\",\n",
    "    \"train_score\": np.mean(c[\"train_scores\"]),\n",
    "    \"test_score\": np.mean(c[\"acc_scores\"])\n",
    "    })"
   ],
   "metadata": {
    "collapsed": false,
    "pycharm": {
     "name": "#%%\n"
    }
   }
  }
 ]
}